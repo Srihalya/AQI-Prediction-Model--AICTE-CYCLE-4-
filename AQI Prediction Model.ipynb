{
 "cells": [
  {
   "cell_type": "markdown",
   "id": "05fbda72-a8d9-42a2-94a5-ab2cb1cfecf1",
   "metadata": {},
   "source": [
    "# AQI Prediction Model using Python"
   ]
  },
  {
   "cell_type": "markdown",
   "id": "7e8fe747-f457-4d01-8bb4-61cf7febe829",
   "metadata": {},
   "source": [
    "- PM2.5 PM10\n",
    "- NO, NO2\n",
    "- NH3 - Ammonia\n",
    "- CO\n",
    "- So2\n",
    "- O3\n",
    "- Benzene, Toluene, Xylene"
   ]
  },
  {
   "cell_type": "code",
   "execution_count": 3,
   "id": "0701b0cf-fc46-4d73-bb10-773c1ed4c83a",
   "metadata": {},
   "outputs": [],
   "source": [
    "# pip install numpy pandas matplotlib seaborn scikit-learn"
   ]
  },
  {
   "cell_type": "code",
   "execution_count": 4,
   "id": "f0dfadd0-0f65-47ca-8fa1-fd3cb286d6dd",
   "metadata": {},
   "outputs": [],
   "source": [
    "# Importing necessary libraries\n",
    "import numpy as np\n",
    "import pandas as pd\n",
    "import matplotlib.pyplot as plt\n",
    "import seaborn as sns\n",
    "from warnings import filterwarnings\n",
    "filterwarnings('ignore')"
   ]
  },
  {
   "cell_type": "code",
   "execution_count": 5,
   "id": "07d9a828-b546-4c5c-bf5a-68e502dc3b32",
   "metadata": {},
   "outputs": [
    {
     "data": {
      "text/html": [
       "<div>\n",
       "<style scoped>\n",
       "    .dataframe tbody tr th:only-of-type {\n",
       "        vertical-align: middle;\n",
       "    }\n",
       "\n",
       "    .dataframe tbody tr th {\n",
       "        vertical-align: top;\n",
       "    }\n",
       "\n",
       "    .dataframe thead th {\n",
       "        text-align: right;\n",
       "    }\n",
       "</style>\n",
       "<table border=\"1\" class=\"dataframe\">\n",
       "  <thead>\n",
       "    <tr style=\"text-align: right;\">\n",
       "      <th></th>\n",
       "      <th>City</th>\n",
       "      <th>Date</th>\n",
       "      <th>PM2.5</th>\n",
       "      <th>PM10</th>\n",
       "      <th>NO</th>\n",
       "      <th>NO2</th>\n",
       "      <th>NOx</th>\n",
       "      <th>NH3</th>\n",
       "      <th>CO</th>\n",
       "      <th>SO2</th>\n",
       "      <th>O3</th>\n",
       "      <th>Benzene</th>\n",
       "      <th>Toluene</th>\n",
       "      <th>Xylene</th>\n",
       "      <th>AQI</th>\n",
       "      <th>AQI_Bucket</th>\n",
       "    </tr>\n",
       "  </thead>\n",
       "  <tbody>\n",
       "    <tr>\n",
       "      <th>0</th>\n",
       "      <td>Ahmedabad</td>\n",
       "      <td>2015-01-01</td>\n",
       "      <td>NaN</td>\n",
       "      <td>NaN</td>\n",
       "      <td>0.92</td>\n",
       "      <td>18.22</td>\n",
       "      <td>17.15</td>\n",
       "      <td>NaN</td>\n",
       "      <td>0.92</td>\n",
       "      <td>27.64</td>\n",
       "      <td>133.36</td>\n",
       "      <td>0.00</td>\n",
       "      <td>0.02</td>\n",
       "      <td>0.00</td>\n",
       "      <td>NaN</td>\n",
       "      <td>NaN</td>\n",
       "    </tr>\n",
       "    <tr>\n",
       "      <th>1</th>\n",
       "      <td>Ahmedabad</td>\n",
       "      <td>2015-01-02</td>\n",
       "      <td>NaN</td>\n",
       "      <td>NaN</td>\n",
       "      <td>0.97</td>\n",
       "      <td>15.69</td>\n",
       "      <td>16.46</td>\n",
       "      <td>NaN</td>\n",
       "      <td>0.97</td>\n",
       "      <td>24.55</td>\n",
       "      <td>34.06</td>\n",
       "      <td>3.68</td>\n",
       "      <td>5.50</td>\n",
       "      <td>3.77</td>\n",
       "      <td>NaN</td>\n",
       "      <td>NaN</td>\n",
       "    </tr>\n",
       "    <tr>\n",
       "      <th>2</th>\n",
       "      <td>Ahmedabad</td>\n",
       "      <td>2015-01-03</td>\n",
       "      <td>NaN</td>\n",
       "      <td>NaN</td>\n",
       "      <td>17.40</td>\n",
       "      <td>19.30</td>\n",
       "      <td>29.70</td>\n",
       "      <td>NaN</td>\n",
       "      <td>17.40</td>\n",
       "      <td>29.07</td>\n",
       "      <td>30.70</td>\n",
       "      <td>6.80</td>\n",
       "      <td>16.40</td>\n",
       "      <td>2.25</td>\n",
       "      <td>NaN</td>\n",
       "      <td>NaN</td>\n",
       "    </tr>\n",
       "    <tr>\n",
       "      <th>3</th>\n",
       "      <td>Ahmedabad</td>\n",
       "      <td>2015-01-04</td>\n",
       "      <td>NaN</td>\n",
       "      <td>NaN</td>\n",
       "      <td>1.70</td>\n",
       "      <td>18.48</td>\n",
       "      <td>17.97</td>\n",
       "      <td>NaN</td>\n",
       "      <td>1.70</td>\n",
       "      <td>18.59</td>\n",
       "      <td>36.08</td>\n",
       "      <td>4.43</td>\n",
       "      <td>10.14</td>\n",
       "      <td>1.00</td>\n",
       "      <td>NaN</td>\n",
       "      <td>NaN</td>\n",
       "    </tr>\n",
       "    <tr>\n",
       "      <th>4</th>\n",
       "      <td>Ahmedabad</td>\n",
       "      <td>2015-01-05</td>\n",
       "      <td>NaN</td>\n",
       "      <td>NaN</td>\n",
       "      <td>22.10</td>\n",
       "      <td>21.42</td>\n",
       "      <td>37.76</td>\n",
       "      <td>NaN</td>\n",
       "      <td>22.10</td>\n",
       "      <td>39.33</td>\n",
       "      <td>39.31</td>\n",
       "      <td>7.01</td>\n",
       "      <td>18.89</td>\n",
       "      <td>2.78</td>\n",
       "      <td>NaN</td>\n",
       "      <td>NaN</td>\n",
       "    </tr>\n",
       "  </tbody>\n",
       "</table>\n",
       "</div>"
      ],
      "text/plain": [
       "        City        Date  PM2.5  PM10     NO    NO2    NOx  NH3     CO    SO2  \\\n",
       "0  Ahmedabad  2015-01-01    NaN   NaN   0.92  18.22  17.15  NaN   0.92  27.64   \n",
       "1  Ahmedabad  2015-01-02    NaN   NaN   0.97  15.69  16.46  NaN   0.97  24.55   \n",
       "2  Ahmedabad  2015-01-03    NaN   NaN  17.40  19.30  29.70  NaN  17.40  29.07   \n",
       "3  Ahmedabad  2015-01-04    NaN   NaN   1.70  18.48  17.97  NaN   1.70  18.59   \n",
       "4  Ahmedabad  2015-01-05    NaN   NaN  22.10  21.42  37.76  NaN  22.10  39.33   \n",
       "\n",
       "       O3  Benzene  Toluene  Xylene  AQI AQI_Bucket  \n",
       "0  133.36     0.00     0.02    0.00  NaN        NaN  \n",
       "1   34.06     3.68     5.50    3.77  NaN        NaN  \n",
       "2   30.70     6.80    16.40    2.25  NaN        NaN  \n",
       "3   36.08     4.43    10.14    1.00  NaN        NaN  \n",
       "4   39.31     7.01    18.89    2.78  NaN        NaN  "
      ]
     },
     "execution_count": 5,
     "metadata": {},
     "output_type": "execute_result"
    }
   ],
   "source": [
    "df = pd.read_csv('air quality data.csv')\n",
    "df.head() #Top 5 rows!"
   ]
  },
  {
   "cell_type": "code",
   "execution_count": 6,
   "id": "4eaace4e-cf2a-434b-8753-ffd0bda8c0c7",
   "metadata": {},
   "outputs": [
    {
     "data": {
      "text/plain": [
       "(29531, 16)"
      ]
     },
     "execution_count": 6,
     "metadata": {},
     "output_type": "execute_result"
    }
   ],
   "source": [
    "# Shape -rows and cols!\n",
    "df.shape"
   ]
  },
  {
   "cell_type": "code",
   "execution_count": 7,
   "id": "61f83c6b-ad68-4ebf-bbc1-d1339b63af78",
   "metadata": {},
   "outputs": [
    {
     "name": "stdout",
     "output_type": "stream",
     "text": [
      "<class 'pandas.core.frame.DataFrame'>\n",
      "RangeIndex: 29531 entries, 0 to 29530\n",
      "Data columns (total 16 columns):\n",
      " #   Column      Non-Null Count  Dtype  \n",
      "---  ------      --------------  -----  \n",
      " 0   City        29531 non-null  object \n",
      " 1   Date        29531 non-null  object \n",
      " 2   PM2.5       24933 non-null  float64\n",
      " 3   PM10        18391 non-null  float64\n",
      " 4   NO          25949 non-null  float64\n",
      " 5   NO2         25946 non-null  float64\n",
      " 6   NOx         25346 non-null  float64\n",
      " 7   NH3         19203 non-null  float64\n",
      " 8   CO          27472 non-null  float64\n",
      " 9   SO2         25677 non-null  float64\n",
      " 10  O3          25509 non-null  float64\n",
      " 11  Benzene     23908 non-null  float64\n",
      " 12  Toluene     21490 non-null  float64\n",
      " 13  Xylene      11422 non-null  float64\n",
      " 14  AQI         24850 non-null  float64\n",
      " 15  AQI_Bucket  24850 non-null  object \n",
      "dtypes: float64(13), object(3)\n",
      "memory usage: 3.6+ MB\n"
     ]
    }
   ],
   "source": [
    "# Infornation\n",
    "df.info()"
   ]
  },
  {
   "cell_type": "code",
   "execution_count": 8,
   "id": "9fea910a-0dec-485f-8382-ffd897899ee9",
   "metadata": {},
   "outputs": [
    {
     "data": {
      "text/plain": [
       "np.int64(0)"
      ]
     },
     "execution_count": 8,
     "metadata": {},
     "output_type": "execute_result"
    }
   ],
   "source": [
    "# to know the duplicate value\n",
    "df.duplicated().sum()"
   ]
  },
  {
   "cell_type": "code",
   "execution_count": 9,
   "id": "d62a5670-e5c3-487a-8ec3-1c9c0e4b4f6e",
   "metadata": {},
   "outputs": [
    {
     "data": {
      "text/plain": [
       "City              0\n",
       "Date              0\n",
       "PM2.5          4598\n",
       "PM10          11140\n",
       "NO             3582\n",
       "NO2            3585\n",
       "NOx            4185\n",
       "NH3           10328\n",
       "CO             2059\n",
       "SO2            3854\n",
       "O3             4022\n",
       "Benzene        5623\n",
       "Toluene        8041\n",
       "Xylene        18109\n",
       "AQI            4681\n",
       "AQI_Bucket     4681\n",
       "dtype: int64"
      ]
     },
     "execution_count": 9,
     "metadata": {},
     "output_type": "execute_result"
    }
   ],
   "source": [
    "# To check missing values\n",
    "df.isnull().sum()"
   ]
  },
  {
   "cell_type": "code",
   "execution_count": 10,
   "id": "46f9dfb0-0685-4e76-9add-38d977b0647d",
   "metadata": {},
   "outputs": [],
   "source": [
    "# Drop the rows where 'AQI' has missing values\n",
    "df.dropna(subset=['AQI'], inplace = True)"
   ]
  },
  {
   "cell_type": "code",
   "execution_count": 11,
   "id": "f2100524-9c85-418d-8bd4-c2fb2c550e93",
   "metadata": {},
   "outputs": [
    {
     "data": {
      "text/plain": [
       "Xylene        15372\n",
       "PM10           7086\n",
       "NH3            6536\n",
       "Toluene        5826\n",
       "Benzene        3535\n",
       "NOx            1857\n",
       "O3              807\n",
       "PM2.5           678\n",
       "SO2             605\n",
       "CO              445\n",
       "NO2             391\n",
       "NO              387\n",
       "Date              0\n",
       "City              0\n",
       "AQI               0\n",
       "AQI_Bucket        0\n",
       "dtype: int64"
      ]
     },
     "execution_count": 11,
     "metadata": {},
     "output_type": "execute_result"
    }
   ],
   "source": [
    "df.isnull().sum().sort_values(ascending=False)"
   ]
  },
  {
   "cell_type": "code",
   "execution_count": 12,
   "id": "37c515c4-bd6a-42f9-9273-9c463a72f6f0",
   "metadata": {},
   "outputs": [
    {
     "data": {
      "text/plain": [
       "(24850, 16)"
      ]
     },
     "execution_count": 12,
     "metadata": {},
     "output_type": "execute_result"
    }
   ],
   "source": [
    "df.shape"
   ]
  },
  {
   "cell_type": "code",
   "execution_count": 13,
   "id": "816b060f-7c9a-46a8-9348-eb202b68b79d",
   "metadata": {},
   "outputs": [
    {
     "data": {
      "text/html": [
       "<div>\n",
       "<style scoped>\n",
       "    .dataframe tbody tr th:only-of-type {\n",
       "        vertical-align: middle;\n",
       "    }\n",
       "\n",
       "    .dataframe tbody tr th {\n",
       "        vertical-align: top;\n",
       "    }\n",
       "\n",
       "    .dataframe thead th {\n",
       "        text-align: right;\n",
       "    }\n",
       "</style>\n",
       "<table border=\"1\" class=\"dataframe\">\n",
       "  <thead>\n",
       "    <tr style=\"text-align: right;\">\n",
       "      <th></th>\n",
       "      <th>count</th>\n",
       "      <th>mean</th>\n",
       "      <th>std</th>\n",
       "      <th>min</th>\n",
       "      <th>25%</th>\n",
       "      <th>50%</th>\n",
       "      <th>75%</th>\n",
       "      <th>max</th>\n",
       "    </tr>\n",
       "  </thead>\n",
       "  <tbody>\n",
       "    <tr>\n",
       "      <th>PM2.5</th>\n",
       "      <td>24172.0</td>\n",
       "      <td>67.476613</td>\n",
       "      <td>63.075398</td>\n",
       "      <td>0.04</td>\n",
       "      <td>29.0000</td>\n",
       "      <td>48.785</td>\n",
       "      <td>80.9250</td>\n",
       "      <td>914.94</td>\n",
       "    </tr>\n",
       "    <tr>\n",
       "      <th>PM10</th>\n",
       "      <td>17764.0</td>\n",
       "      <td>118.454435</td>\n",
       "      <td>89.487976</td>\n",
       "      <td>0.03</td>\n",
       "      <td>56.7775</td>\n",
       "      <td>96.180</td>\n",
       "      <td>150.1825</td>\n",
       "      <td>917.08</td>\n",
       "    </tr>\n",
       "    <tr>\n",
       "      <th>NO</th>\n",
       "      <td>24463.0</td>\n",
       "      <td>17.622421</td>\n",
       "      <td>22.421138</td>\n",
       "      <td>0.03</td>\n",
       "      <td>5.6600</td>\n",
       "      <td>9.910</td>\n",
       "      <td>20.0300</td>\n",
       "      <td>390.68</td>\n",
       "    </tr>\n",
       "    <tr>\n",
       "      <th>NO2</th>\n",
       "      <td>24459.0</td>\n",
       "      <td>28.978391</td>\n",
       "      <td>24.627054</td>\n",
       "      <td>0.01</td>\n",
       "      <td>11.9400</td>\n",
       "      <td>22.100</td>\n",
       "      <td>38.2400</td>\n",
       "      <td>362.21</td>\n",
       "    </tr>\n",
       "    <tr>\n",
       "      <th>NOx</th>\n",
       "      <td>22993.0</td>\n",
       "      <td>32.289012</td>\n",
       "      <td>30.712855</td>\n",
       "      <td>0.00</td>\n",
       "      <td>13.1100</td>\n",
       "      <td>23.680</td>\n",
       "      <td>40.1700</td>\n",
       "      <td>378.24</td>\n",
       "    </tr>\n",
       "    <tr>\n",
       "      <th>NH3</th>\n",
       "      <td>18314.0</td>\n",
       "      <td>23.848366</td>\n",
       "      <td>25.875981</td>\n",
       "      <td>0.01</td>\n",
       "      <td>8.9600</td>\n",
       "      <td>16.310</td>\n",
       "      <td>30.3600</td>\n",
       "      <td>352.89</td>\n",
       "    </tr>\n",
       "    <tr>\n",
       "      <th>CO</th>\n",
       "      <td>24405.0</td>\n",
       "      <td>2.345267</td>\n",
       "      <td>7.075208</td>\n",
       "      <td>0.00</td>\n",
       "      <td>0.5900</td>\n",
       "      <td>0.930</td>\n",
       "      <td>1.4800</td>\n",
       "      <td>175.81</td>\n",
       "    </tr>\n",
       "    <tr>\n",
       "      <th>SO2</th>\n",
       "      <td>24245.0</td>\n",
       "      <td>14.362933</td>\n",
       "      <td>17.428693</td>\n",
       "      <td>0.01</td>\n",
       "      <td>5.7300</td>\n",
       "      <td>9.220</td>\n",
       "      <td>15.1400</td>\n",
       "      <td>186.08</td>\n",
       "    </tr>\n",
       "    <tr>\n",
       "      <th>O3</th>\n",
       "      <td>24043.0</td>\n",
       "      <td>34.912885</td>\n",
       "      <td>21.724525</td>\n",
       "      <td>0.01</td>\n",
       "      <td>19.2500</td>\n",
       "      <td>31.250</td>\n",
       "      <td>46.0800</td>\n",
       "      <td>257.73</td>\n",
       "    </tr>\n",
       "    <tr>\n",
       "      <th>Benzene</th>\n",
       "      <td>21315.0</td>\n",
       "      <td>3.458668</td>\n",
       "      <td>16.036020</td>\n",
       "      <td>0.00</td>\n",
       "      <td>0.2300</td>\n",
       "      <td>1.290</td>\n",
       "      <td>3.3400</td>\n",
       "      <td>455.03</td>\n",
       "    </tr>\n",
       "    <tr>\n",
       "      <th>Toluene</th>\n",
       "      <td>19024.0</td>\n",
       "      <td>9.525714</td>\n",
       "      <td>20.881085</td>\n",
       "      <td>0.00</td>\n",
       "      <td>1.0275</td>\n",
       "      <td>3.575</td>\n",
       "      <td>10.1800</td>\n",
       "      <td>454.85</td>\n",
       "    </tr>\n",
       "    <tr>\n",
       "      <th>Xylene</th>\n",
       "      <td>9478.0</td>\n",
       "      <td>3.588683</td>\n",
       "      <td>6.754324</td>\n",
       "      <td>0.00</td>\n",
       "      <td>0.3900</td>\n",
       "      <td>1.420</td>\n",
       "      <td>4.1200</td>\n",
       "      <td>170.37</td>\n",
       "    </tr>\n",
       "    <tr>\n",
       "      <th>AQI</th>\n",
       "      <td>24850.0</td>\n",
       "      <td>166.463581</td>\n",
       "      <td>140.696585</td>\n",
       "      <td>13.00</td>\n",
       "      <td>81.0000</td>\n",
       "      <td>118.000</td>\n",
       "      <td>208.0000</td>\n",
       "      <td>2049.00</td>\n",
       "    </tr>\n",
       "  </tbody>\n",
       "</table>\n",
       "</div>"
      ],
      "text/plain": [
       "           count        mean         std    min      25%      50%       75%  \\\n",
       "PM2.5    24172.0   67.476613   63.075398   0.04  29.0000   48.785   80.9250   \n",
       "PM10     17764.0  118.454435   89.487976   0.03  56.7775   96.180  150.1825   \n",
       "NO       24463.0   17.622421   22.421138   0.03   5.6600    9.910   20.0300   \n",
       "NO2      24459.0   28.978391   24.627054   0.01  11.9400   22.100   38.2400   \n",
       "NOx      22993.0   32.289012   30.712855   0.00  13.1100   23.680   40.1700   \n",
       "NH3      18314.0   23.848366   25.875981   0.01   8.9600   16.310   30.3600   \n",
       "CO       24405.0    2.345267    7.075208   0.00   0.5900    0.930    1.4800   \n",
       "SO2      24245.0   14.362933   17.428693   0.01   5.7300    9.220   15.1400   \n",
       "O3       24043.0   34.912885   21.724525   0.01  19.2500   31.250   46.0800   \n",
       "Benzene  21315.0    3.458668   16.036020   0.00   0.2300    1.290    3.3400   \n",
       "Toluene  19024.0    9.525714   20.881085   0.00   1.0275    3.575   10.1800   \n",
       "Xylene    9478.0    3.588683    6.754324   0.00   0.3900    1.420    4.1200   \n",
       "AQI      24850.0  166.463581  140.696585  13.00  81.0000  118.000  208.0000   \n",
       "\n",
       "             max  \n",
       "PM2.5     914.94  \n",
       "PM10      917.08  \n",
       "NO        390.68  \n",
       "NO2       362.21  \n",
       "NOx       378.24  \n",
       "NH3       352.89  \n",
       "CO        175.81  \n",
       "SO2       186.08  \n",
       "O3        257.73  \n",
       "Benzene   455.03  \n",
       "Toluene   454.85  \n",
       "Xylene    170.37  \n",
       "AQI      2049.00  "
      ]
     },
     "execution_count": 13,
     "metadata": {},
     "output_type": "execute_result"
    }
   ],
   "source": [
    "# Summary of Statistics in the dataset\n",
    "df.describe().T"
   ]
  },
  {
   "cell_type": "code",
   "execution_count": 14,
   "id": "d3eabf3e-6224-472c-9fc1-7cac797560d6",
   "metadata": {},
   "outputs": [
    {
     "data": {
      "text/plain": [
       "Xylene        61.859155\n",
       "PM10          28.515091\n",
       "NH3           26.301811\n",
       "Toluene       23.444668\n",
       "Benzene       14.225352\n",
       "NOx            7.472837\n",
       "O3             3.247485\n",
       "PM2.5          2.728370\n",
       "SO2            2.434608\n",
       "CO             1.790744\n",
       "NO2            1.573441\n",
       "NO             1.557344\n",
       "Date           0.000000\n",
       "City           0.000000\n",
       "AQI            0.000000\n",
       "AQI_Bucket     0.000000\n",
       "dtype: float64"
      ]
     },
     "execution_count": 14,
     "metadata": {},
     "output_type": "execute_result"
    }
   ],
   "source": [
    "# Percentage of null values\n",
    "null_values_percentage = (df.isnull().sum()/df.isnull().count()*100).sort_values(ascending=False)\n",
    "null_values_percentage"
   ]
  },
  {
   "cell_type": "markdown",
   "id": "d9d4f60f-cc32-4b91-a49b-d36980a0316f",
   "metadata": {},
   "source": [
    "#### Key Considerations:\n",
    "- Xylene has the highest percentage of missing values - 61.86%\n",
    "- PM10 and NH3 28 - 26 %"
   ]
  },
  {
   "cell_type": "markdown",
   "id": "39578bc1-0784-4203-a773-2151991d8a78",
   "metadata": {},
   "source": [
    "## Week2 - Visualization"
   ]
  },
  {
   "cell_type": "code",
   "execution_count": null,
   "id": "10a10844-543d-4e37-90a3-d2df077c4885",
   "metadata": {},
   "outputs": [],
   "source": [
    "# Univariate analysis\n",
    "df['Xylene'].plot(kind = 'hist', figsize=(10,5))\n",
    "plt.legend()\n",
    "plt.show()"
   ]
  },
  {
   "cell_type": "code",
   "execution_count": null,
   "id": "e52a5125-79bc-4eaf-ad42-56943cf88fc7",
   "metadata": {},
   "outputs": [],
   "source": [
    "df['PM10'].plot(kind = 'hist', figsize=(10,5))\n",
    "plt.legend()\n",
    "plt.show()"
   ]
  },
  {
   "cell_type": "code",
   "execution_count": null,
   "id": "8b1661b3-4e96-4b21-9757-590ff2c629fb",
   "metadata": {},
   "outputs": [],
   "source": [
    "df['NH3'].plot(kind = 'hist', figsize=(10,5))\n",
    "plt.legend()\n",
    "plt.show()"
   ]
  },
  {
   "cell_type": "code",
   "execution_count": null,
   "id": "480dd5ee-7722-45bf-916e-9d3ed8d99e51",
   "metadata": {},
   "outputs": [],
   "source": [
    "df['Toluene'].plot(kind = 'hist', figsize=(10,5))\n",
    "plt.legend()\n",
    "plt.show()"
   ]
  },
  {
   "cell_type": "code",
   "execution_count": null,
   "id": "250ccfc8-540d-458c-a17f-73e0ff104fdd",
   "metadata": {},
   "outputs": [],
   "source": [
    "df['Benzene'].plot(kind = 'hist', figsize=(10,5))\n",
    "plt.legend()\n",
    "plt.show()"
   ]
  },
  {
   "cell_type": "code",
   "execution_count": null,
   "id": "7033cd3c-ee3a-4805-8ea8-9fa75ec12bb8",
   "metadata": {},
   "outputs": [],
   "source": [
    "df['NOx'].plot(kind = 'hist', figsize=(10,5))\n",
    "plt.legend()\n",
    "plt.show()"
   ]
  },
  {
   "cell_type": "code",
   "execution_count": null,
   "id": "46c2d48a-19e7-459c-8980-e1b117cc0fe8",
   "metadata": {},
   "outputs": [],
   "source": [
    "df['O3'].plot(kind = 'hist', figsize=(10,5))\n",
    "plt.legend()\n",
    "plt.show()"
   ]
  },
  {
   "cell_type": "code",
   "execution_count": null,
   "id": "e10c03ba-72c3-4fc2-b0cc-ec635fdb9ec1",
   "metadata": {},
   "outputs": [],
   "source": [
    "df['PM2.5'].plot(kind = 'hist', figsize=(10,5))\n",
    "plt.legend()\n",
    "plt.show()"
   ]
  },
  {
   "cell_type": "code",
   "execution_count": null,
   "id": "0dd42597-ec35-4929-a9aa-367cd079b4f8",
   "metadata": {},
   "outputs": [],
   "source": [
    "df['SO2'].plot(kind = 'hist', figsize=(10,5))\n",
    "plt.legend()\n",
    "plt.show()"
   ]
  },
  {
   "cell_type": "code",
   "execution_count": null,
   "id": "a1fbdc48-25c3-43d2-a1a6-52acdeb63726",
   "metadata": {},
   "outputs": [],
   "source": [
    "df['CO'].plot(kind = 'hist', figsize=(10,5))\n",
    "plt.legend()\n",
    "plt.show()"
   ]
  },
  {
   "cell_type": "code",
   "execution_count": null,
   "id": "dc9031ba-5390-4db7-880e-001458ead827",
   "metadata": {},
   "outputs": [],
   "source": [
    "df['AQI'].plot(kind = 'hist', figsize=(10,5))\n",
    "plt.legend()\n",
    "plt.show()"
   ]
  },
  {
   "cell_type": "code",
   "execution_count": null,
   "id": "be6a563e-7482-4149-8fb5-9fe3dfe87a0b",
   "metadata": {},
   "outputs": [],
   "source": [
    "# Distribution of AQI from 2015 to 2020\n",
    "sns.displot(df, x='AQI', color='purple')\n",
    "plt.show"
   ]
  },
  {
   "cell_type": "code",
   "execution_count": null,
   "id": "03b179e6-a8e3-453e-be52-5893f1a96c05",
   "metadata": {},
   "outputs": [],
   "source": [
    "# Bivariate\n",
    "sns.set_theme(style=\"darkgrid\")\n",
    "graph = sns.catplot(x=\"City\", kind='count',data=df, height=5, aspect=3)\n",
    "graph.set_xticklabels(rotation=90)"
   ]
  },
  {
   "cell_type": "code",
   "execution_count": null,
   "id": "13daf87d-463b-4c78-9986-8124979728e4",
   "metadata": {},
   "outputs": [],
   "source": [
    "sns.set_theme(style=\"darkgrid\")\n",
    "graph = sns.catplot(x=\"City\", kind='count',data=df, col=\"AQI_Bucket\", col_wrap=2, height=3.5, aspect=3)\n",
    "graph.set_xticklabels(rotation=90)"
   ]
  },
  {
   "cell_type": "code",
   "execution_count": null,
   "id": "a9c08588-5abc-49c4-a93e-a5f9e8a846f9",
   "metadata": {},
   "outputs": [],
   "source": [
    "graph1 = sns.catplot(x='City', y='PM2.5', kind='box', data=df, height=5, aspect=3)\n",
    "graph1.set_xticklabels(rotation=90)"
   ]
  },
  {
   "cell_type": "code",
   "execution_count": null,
   "id": "9c0aab4c-a639-4520-a227-9b8afb6dc66f",
   "metadata": {},
   "outputs": [],
   "source": [
    "graph2 = sns.catplot(x='City', y='O3', kind='box', data=df, height=5, aspect=3)\n",
    "graph2.set_xticklabels(rotation=90)"
   ]
  },
  {
   "cell_type": "code",
   "execution_count": null,
   "id": "5333b4c9-e7a7-4da1-b1ad-363817cba61a",
   "metadata": {},
   "outputs": [],
   "source": [
    "graph3 = sns.catplot(x='City', y='SO2', kind='box', data=df, height=5, aspect=3)\n",
    "graph3.set_xticklabels(rotation=90)"
   ]
  },
  {
   "cell_type": "code",
   "execution_count": null,
   "id": "b4a588d7-3114-439e-b121-60f49b6702dd",
   "metadata": {},
   "outputs": [],
   "source": [
    "graph4 = sns.catplot(x='City', y='NO2', kind='box', data=df, height=5, aspect=3)\n",
    "graph4.set_xticklabels(rotation=90)"
   ]
  },
  {
   "cell_type": "code",
   "execution_count": null,
   "id": "0309f6a8-e64d-4d83-9d09-d33fe04d2aa1",
   "metadata": {},
   "outputs": [],
   "source": [
    "graph5 = sns.catplot(x='AQI_Bucket', data=df, kind='count', height=6, aspect=3)\n",
    "graph5.set_xticklabels(rotation=90)"
   ]
  },
  {
   "cell_type": "code",
   "execution_count": null,
   "id": "b7a6edfb-0aee-46cf-9ceb-a68388e890c1",
   "metadata": {},
   "outputs": [],
   "source": [
    "# To check the null values\n",
    "df.isnull().sum().sort_values(ascending=False)"
   ]
  },
  {
   "cell_type": "code",
   "execution_count": null,
   "id": "7ec39110-55ef-43ea-92b0-18258c0fa51e",
   "metadata": {},
   "outputs": [],
   "source": [
    "df.describe().loc['mean']"
   ]
  },
  {
   "cell_type": "code",
   "execution_count": null,
   "id": "7a76900b-81c6-4878-a4bb-3e28df95bf69",
   "metadata": {},
   "outputs": [],
   "source": [
    "df = df.replace({\n",
    "    \"PM2.5\":{np.nan:67.476613},\n",
    "    \"PM10\":{np.nan:118.454435},\n",
    "    \"NO\":{np.nan:17.622421},\n",
    "    \"NO2\":{np.nan:28.978391},\n",
    "    \"NOx\":{np.nan:32.289012},\n",
    "    \"NH3\":{np.nan:23.848366},\n",
    "    \"CO\":{np.nan:2.345267},\n",
    "    \"SO2\":{np.nan:14.362933},\n",
    "    \"O3\":{np.nan:34.912885},\n",
    "    \"Benzene\":{np.nan:3.458668},\n",
    "    \"Toluene\":{np.nan:9.525714},\n",
    "    \"Xylene\":{np.nan:3.588683}\n",
    "})"
   ]
  },
  {
   "cell_type": "code",
   "execution_count": null,
   "id": "d2c32026-c849-44e2-95e5-136e09bc6683",
   "metadata": {},
   "outputs": [],
   "source": [
    "df.isnull().sum()"
   ]
  },
  {
   "cell_type": "code",
   "execution_count": null,
   "id": "7d6314ed-2a0b-4ed3-94bd-90316bea2c3c",
   "metadata": {},
   "outputs": [],
   "source": [
    "df = df.drop(['AQI_Bucket'], axis=1)"
   ]
  },
  {
   "cell_type": "code",
   "execution_count": null,
   "id": "c749788b-b74b-466f-a94c-bbcf3a776536",
   "metadata": {},
   "outputs": [],
   "source": [
    "df.head()"
   ]
  },
  {
   "cell_type": "code",
   "execution_count": null,
   "id": "04172dd7-a8ef-45b5-bcfe-589312095225",
   "metadata": {},
   "outputs": [],
   "source": [
    "sns.boxplot(data=df[['PM2.5', 'PM10']])"
   ]
  },
  {
   "cell_type": "code",
   "execution_count": null,
   "id": "70407955-8de8-4433-8107-b7e0bafeefaf",
   "metadata": {},
   "outputs": [],
   "source": [
    "sns.boxplot(data=df[['NO', 'NO2', 'NOx', 'NH3']])"
   ]
  },
  {
   "cell_type": "code",
   "execution_count": null,
   "id": "fa765e64-3f96-4d28-b013-611afc15ed18",
   "metadata": {},
   "outputs": [],
   "source": [
    "sns.boxplot(data=df[['O3', 'SO2']])"
   ]
  },
  {
   "cell_type": "code",
   "execution_count": null,
   "id": "d8d9b5e9-e5f7-4bdc-9e69-3982a545fb0f",
   "metadata": {},
   "outputs": [],
   "source": [
    "sns.boxplot(data=df[['Benzene', 'Toluene', 'Xylene']])"
   ]
  },
  {
   "cell_type": "code",
   "execution_count": null,
   "id": "26ecde36-5ba6-4da1-b3b1-e0737668be8f",
   "metadata": {},
   "outputs": [],
   "source": [
    "# IQR Method - Q3 Q1\n",
    "def replace_outliers(df):\n",
    "    for column in df.select_dtypes(include=['number']).columns:\n",
    "        Q1 = df[column].quantile(0.25)\n",
    "        Q3 = df[column].quantile(0.75)\n",
    "        IQR = Q3 - Q1\n",
    "        lb = Q1 - 1.5 * IQR\n",
    "        ub = Q3 + 1.5 * IQR\n",
    "        df[column] = df[column].apply(\n",
    "            lambda x: Q1 if x < lb else (Q3 if x > ub else x)\n",
    "        )\n",
    "    return df"
   ]
  },
  {
   "cell_type": "code",
   "execution_count": null,
   "id": "7fb59674-0285-4d01-9a60-39d7101ff8ef",
   "metadata": {},
   "outputs": [],
   "source": [
    "df = replace_outliers(df)"
   ]
  },
  {
   "cell_type": "code",
   "execution_count": null,
   "id": "fdac8f50-38c1-400a-a7b3-12c269eb7e4e",
   "metadata": {},
   "outputs": [],
   "source": [
    "df.describe().T"
   ]
  },
  {
   "cell_type": "code",
   "execution_count": null,
   "id": "6c7d8987-1c9d-4526-b8d3-50f283d69234",
   "metadata": {},
   "outputs": [],
   "source": [
    "sns.boxplot(data=df[['PM2.5', 'PM10']])"
   ]
  },
  {
   "cell_type": "code",
   "execution_count": null,
   "id": "bbb72f06-dcf2-4130-899d-38f8bd075179",
   "metadata": {},
   "outputs": [],
   "source": [
    "sns.boxplot(data=df[['O3', 'SO2']])"
   ]
  },
  {
   "cell_type": "code",
   "execution_count": null,
   "id": "23193c39-96d0-4dfa-b1ca-2c6639620895",
   "metadata": {},
   "outputs": [],
   "source": [
    "sns.boxplot(data=df[['NO', 'NO2', 'NOx', 'NH3']])"
   ]
  },
  {
   "cell_type": "code",
   "execution_count": null,
   "id": "9cbe359f-7a29-4df4-bac7-f731094eb3fd",
   "metadata": {},
   "outputs": [],
   "source": [
    "sns.boxplot(data=df[['Benzene', 'Toluene', 'Xylene']])"
   ]
  },
  {
   "cell_type": "code",
   "execution_count": null,
   "id": "a9bdf4b8-a388-41a6-b473-29a6e9752b89",
   "metadata": {},
   "outputs": [],
   "source": [
    "sns.displot(df, x='AQI', color='red')\n",
    "plt.show()"
   ]
  },
  {
   "cell_type": "code",
   "execution_count": null,
   "id": "8e2251db-5436-4915-be90-d8538f836546",
   "metadata": {},
   "outputs": [],
   "source": [
    "df1 = df.drop(columns=['City'])"
   ]
  },
  {
   "cell_type": "code",
   "execution_count": null,
   "id": "99cd27dd-7a07-4950-95cf-fc970259a2a3",
   "metadata": {},
   "outputs": [],
   "source": [
    "# Multivariate Analysis - Heatmap\n",
    "plt.figure(figsize=(12, 8))\n",
    "sns.heatmap(df1.select_dtypes(include=['number']).corr(), annot=True, cmap='Pastel1')\n",
    "plt.show()"
   ]
  },
  {
   "cell_type": "markdown",
   "id": "df6b5570-ea11-4b42-a0b5-1b550d3c3edb",
   "metadata": {},
   "source": [
    "# Week 3 - Data Modeling - 10 March 2025"
   ]
  },
  {
   "cell_type": "code",
   "execution_count": null,
   "id": "90373297-abf5-4796-9820-c7f759a27117",
   "metadata": {},
   "outputs": [],
   "source": [
    "df.drop(['Date', 'City'], axis = 1, inplace=True)\n",
    "df.head()"
   ]
  },
  {
   "cell_type": "code",
   "execution_count": null,
   "id": "59f64c35-7d3c-45a0-b59a-be3938a6e782",
   "metadata": {},
   "outputs": [],
   "source": [
    "# Scaling - Standard Scaler\n",
    "from sklearn.preprocessing import StandardScaler\n",
    "df1 = StandardScaler().fit_transform(df)\n",
    "df1"
   ]
  },
  {
   "cell_type": "code",
   "execution_count": null,
   "id": "5cead90d-762a-42e8-a68c-93e5bbea2872",
   "metadata": {},
   "outputs": [],
   "source": [
    "df = pd.DataFrame(df1, columns=df.columns)\n",
    "df.head()"
   ]
  },
  {
   "cell_type": "code",
   "execution_count": null,
   "id": "d216c333-dcf0-4462-b700-2872832d7732",
   "metadata": {},
   "outputs": [],
   "source": [
    "from sklearn.linear_model import LinearRegression\n",
    "from sklearn. tree import DecisionTreeRegressor\n",
    "from sklearn.ensemble import RandomForestRegressor\n",
    "from sklearn.neighbors import KNeighborsRegressor\n",
    "from sklearn.metrics import mean_squared_error, r2_score"
   ]
  },
  {
   "cell_type": "code",
   "execution_count": null,
   "id": "38119ff4-3976-4abe-89ae-5aa246ae0e76",
   "metadata": {},
   "outputs": [],
   "source": [
    "df.columns"
   ]
  },
  {
   "cell_type": "code",
   "execution_count": null,
   "id": "4c3e3930-2cd9-4eee-bcde-faa5ad601412",
   "metadata": {},
   "outputs": [],
   "source": [
    "# Featur & Target Selection\n",
    "X = df[['PM2.5', 'PM10', 'NO', 'NO2', 'NOx', 'NH3', 'CO', 'SO2', 'O3',\n",
    "       'Benzene', 'Toluene', 'Xylene']]\n",
    "y = df['AQI']"
   ]
  },
  {
   "cell_type": "code",
   "execution_count": null,
   "id": "7ba3c303-7717-4c10-a3b2-de324a31f002",
   "metadata": {},
   "outputs": [],
   "source": [
    "X.head()"
   ]
  },
  {
   "cell_type": "code",
   "execution_count": null,
   "id": "a34e2adc-f443-41aa-8c2e-e1960902e3bb",
   "metadata": {},
   "outputs": [],
   "source": [
    "# Split the data into training and testing data - Training set - 80%  | Testing set - 20%\n",
    "from sklearn.model_selection import train_test_split\n",
    "X_train,X_test,y_train,y_test = train_test_split(X,y,test_size=0.2, random_state=42)\n",
    "print('Shape of X Train',X_train.shape)\n",
    "print('Shape of X Test',X_test.shape)\n",
    "print('Shape of y Train',y_train.shape)\n",
    "print('Shape of y Test',y_test.shape)"
   ]
  },
  {
   "cell_type": "code",
   "execution_count": null,
   "id": "7f73d565-7b36-4d71-920d-5415e8b25262",
   "metadata": {},
   "outputs": [],
   "source": [
    "# Linear Regression Model\n",
    "LR = LinearRegression()\n",
    "LR.fit(X_train,y_train)"
   ]
  },
  {
   "cell_type": "code",
   "execution_count": null,
   "id": "bacce7b3-640d-4701-8236-56dd08234e62",
   "metadata": {},
   "outputs": [],
   "source": [
    "# Predicting the values:\n",
    "train_pred = LR.predict(X_train) # Predicting train\n",
    "test_pred = LR.predict(X_test) # Predicting test"
   ]
  },
  {
   "cell_type": "code",
   "execution_count": null,
   "id": "cbec284e-39d2-4cd6-ad9b-88333b778277",
   "metadata": {},
   "outputs": [],
   "source": [
    "# Evaluation for Linear Regression\n",
    "RMSE_train = (np.sqrt(mean_squared_error(y_train, train_pred)))\n",
    "RMSE_test = (np.sqrt(mean_squared_error(y_test, test_pred)))\n",
    "print('RMSE Train Data = ', str(RMSE_train))\n",
    "print('RMSE Test Data = ', str(RMSE_test))\n",
    "print('_'*60)\n",
    "print('R Squared value for Train = ', LR.score(X_train, y_train))\n",
    "print('R Squared value on Test = ', LR.score(X_test,y_test))"
   ]
  },
  {
   "cell_type": "code",
   "execution_count": null,
   "id": "063c0ba2-be80-4026-8b0e-8ce19501bcd6",
   "metadata": {},
   "outputs": [],
   "source": [
    "#KNN\n",
    "knn = KNeighborsRegressor()\n",
    "knn.fit(X_train, y_train)"
   ]
  },
  {
   "cell_type": "code",
   "execution_count": null,
   "id": "f5f8033d-936e-45e2-816c-74e1cd2c77ca",
   "metadata": {},
   "outputs": [],
   "source": [
    "# Predicting the values:\n",
    "train_pred = knn.predict(X_train) # Predicting train\n",
    "test_pred = knn.predict(X_test) # Predicting test\n",
    "\n",
    "# Evaluation for KNN Regression\n",
    "RMSE_train = (np.sqrt(mean_squared_error(y_train, train_pred)))\n",
    "RMSE_test = (np.sqrt(mean_squared_error(y_test, test_pred)))\n",
    "print('RMSE Train Data = ', str(RMSE_train))\n",
    "print('RMSE Test Data = ', str(RMSE_test))\n",
    "print('_'*60)\n",
    "print('R Squared value for Train = ', knn.score(X_train, y_train))\n",
    "print('R Squared value on Test = ', knn.score(X_test,y_test))"
   ]
  },
  {
   "cell_type": "code",
   "execution_count": null,
   "id": "aa3218c6-872b-4681-b84d-56b22dbb0954",
   "metadata": {},
   "outputs": [],
   "source": [
    "# Decision Tree\n",
    "dtr = DecisionTreeRegressor()\n",
    "dtr.fit(X_train,y_train)"
   ]
  },
  {
   "cell_type": "code",
   "execution_count": null,
   "id": "c24c86b4-b807-46b7-8563-e4d6af7adedd",
   "metadata": {},
   "outputs": [],
   "source": [
    "# Predicting the values:\n",
    "train_pred = dtr.predict(X_train) # Predicting train\n",
    "test_pred = dtr.predict(X_test) # Predicting test\n",
    "\n",
    "# Evaluation for Decision Tree Regression\n",
    "RMSE_train = (np.sqrt(mean_squared_error(y_train, train_pred)))\n",
    "RMSE_test = (np.sqrt(mean_squared_error(y_test, test_pred)))\n",
    "print('RMSE Train Data = ', str(RMSE_train))\n",
    "print('RMSE Test Data = ', str(RMSE_test))\n",
    "print('_'*60)\n",
    "print('R Squared value for Train = ', dtr.score(X_train, y_train))\n",
    "print('R Squared value on Test = ', dtr.score(X_test,y_test))"
   ]
  },
  {
   "cell_type": "code",
   "execution_count": null,
   "id": "99902ba8-f70c-44a6-9db9-62abc8b06d19",
   "metadata": {},
   "outputs": [],
   "source": [
    "# Random Forest Regressor\n",
    "rfr = RandomForestRegressor()\n",
    "rfr.fit(X_train, y_train)"
   ]
  },
  {
   "cell_type": "code",
   "execution_count": null,
   "id": "5ec7aa4d-9f12-48fc-a2d7-d7d045a275e2",
   "metadata": {},
   "outputs": [],
   "source": [
    "# Predicting the values:\n",
    "train_pred = rfr.predict(X_train) # Predicting train\n",
    "test_pred = rfr.predict(X_test) # Predicting test\n",
    "\n",
    "# Evaluation for Random Forest Regression\n",
    "RMSE_train = (np.sqrt(mean_squared_error(y_train, train_pred)))\n",
    "RMSE_test = (np.sqrt(mean_squared_error(y_test, test_pred)))\n",
    "print('RMSE Train Data = ', str(RMSE_train))\n",
    "print('RMSE Test Data = ', str(RMSE_test))\n",
    "print('_'*60)\n",
    "print('R Squared value for Train = ', rfr.score(X_train, y_train))\n",
    "print('R Squared value on Test = ', rfr.score(X_test,y_test))"
   ]
  },
  {
   "cell_type": "code",
   "execution_count": null,
   "id": "0019cc73-4d76-4f54-b74b-24c8d58695d0",
   "metadata": {},
   "outputs": [],
   "source": []
  }
 ],
 "metadata": {
  "kernelspec": {
   "display_name": "Python 3 (ipykernel)",
   "language": "python",
   "name": "python3"
  },
  "language_info": {
   "codemirror_mode": {
    "name": "ipython",
    "version": 3
   },
   "file_extension": ".py",
   "mimetype": "text/x-python",
   "name": "python",
   "nbconvert_exporter": "python",
   "pygments_lexer": "ipython3",
   "version": "3.12.7"
  }
 },
 "nbformat": 4,
 "nbformat_minor": 5
}
